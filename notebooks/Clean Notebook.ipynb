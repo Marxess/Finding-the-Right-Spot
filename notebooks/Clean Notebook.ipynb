{
 "cells": [
  {
   "cell_type": "markdown",
   "metadata": {},
   "source": [
    "# Finding the Right Spot"
   ]
  },
  {
   "cell_type": "markdown",
   "metadata": {},
   "source": [
    "Requirements:\n",
    "- Developers like to be near successful tech startups that have raised at least 1 Million dollars.\n",
    "- Executives like Starbucks A LOT. Ensure there's a starbucks not too far.\n",
    "- Account managers need to travel a lot.\n",
    "- Everyone in the company is between 25 and 40, give them some place to go party."
   ]
  },
  {
   "cell_type": "code",
   "execution_count": 2,
   "metadata": {},
   "outputs": [],
   "source": [
    "#importing necessary libraries\n",
    "import folium\n",
    "from folium import Choropleth, Circle, Marker, Icon, Map\n",
    "from folium.plugins import HeatMap, MarkerCluster\n",
    "import pandas as pd\n",
    "import os\n",
    "import requests\n",
    "import json\n",
    "from dotenv import load_dotenv\n",
    "from pymongo import MongoClient\n",
    "import geopandas as gpd\n",
    "from functools import reduce\n",
    "import operator\n",
    "import geopandas as gpd"
   ]
  },
  {
   "cell_type": "code",
   "execution_count": 3,
   "metadata": {},
   "outputs": [],
   "source": [
    "#functions\n",
    "def getFromDict(diccionario,mapa):\n",
    "    return reduce(operator.getitem,mapa,diccionario)\n",
    "\n",
    "# Calculate Distance Between GPS Points\n",
    "\n",
    "import math\n",
    "\n",
    "def haversine(coord1, coord2):\n",
    "    R = 6372800  # Earth radius in meters\n",
    "    lat1, lon1 = coord1\n",
    "    lat2, lon2 = coord2\n",
    "    \n",
    "    phi1, phi2 = math.radians(lat1), math.radians(lat2) \n",
    "    dphi       = math.radians(lat2 - lat1)\n",
    "    dlambda    = math.radians(lon2 - lon1)\n",
    "    \n",
    "    a = math.sin(dphi/2)**2 + \\\n",
    "        math.cos(phi1)*math.cos(phi2)*math.sin(dlambda/2)**2\n",
    "    \n",
    "    return 2*R*math.atan2(math.sqrt(a), math.sqrt(1 - a))"
   ]
  },
  {
   "cell_type": "code",
   "execution_count": 48,
   "metadata": {},
   "outputs": [],
   "source": [
    "#checking connection and getting the database 'companies'\n",
    "conn = MongoClient(\"localhost:27017\")\n",
    "db = conn.get_database(\"ironhack\")\n",
    "collection = db.get_collection(\"companies\")"
   ]
  },
  {
   "cell_type": "code",
   "execution_count": 5,
   "metadata": {},
   "outputs": [],
   "source": [
    "c = collection"
   ]
  },
  {
   "cell_type": "markdown",
   "metadata": {},
   "source": [
    "I filtered the database 'companies' to find those with offices in Dublin and which had raised over €1.0M. The dataframe below shows the results obtained."
   ]
  },
  {
   "cell_type": "markdown",
   "metadata": {},
   "source": [
    "### Why Dublin?\n",
    "- **Low Taxes**\n",
    "Thanks to the governmental effort to welcome new businesses and support creation of a more diverse job market, Dublin has the most attractive corporate tax rates in the world – just 12,5 %. R&D expenditure generates a 25% tax credit for offset against corporate taxes in addition to a tax deduction at 12.5% — this means that companies can claim a refund of €37.50 for every €100 worth of R&D expenditure.\n",
    "- **Talented workforce**\n",
    "Significantly cheaper than London, Dublin attracts young tech talent from all over the world. Dublin produces over 26 thousand graduates every year and is home to three internationally-ranked universities — Trinity College Dublin, University College Dublin and Dublin City University. That’s already a huge talent pool right there. Global Talent Competitiveness Index ranked Dublin among the top 10 cities for attracting and retaining talent.\n",
    "- **Ireland Help**\n",
    "Ireland’s Local Enterprise Office (LEO) spearheads business support for companies looking to relocate to Ireland through mentoring, training and grants ranging from €15,000 to help companies research market demand to €80,000 for expansion."
   ]
  },
  {
   "cell_type": "code",
   "execution_count": 6,
   "metadata": {},
   "outputs": [
    {
     "data": {
      "text/html": [
       "<div>\n",
       "<style scoped>\n",
       "    .dataframe tbody tr th:only-of-type {\n",
       "        vertical-align: middle;\n",
       "    }\n",
       "\n",
       "    .dataframe tbody tr th {\n",
       "        vertical-align: top;\n",
       "    }\n",
       "\n",
       "    .dataframe thead th {\n",
       "        text-align: right;\n",
       "    }\n",
       "</style>\n",
       "<table border=\"1\" class=\"dataframe\">\n",
       "  <thead>\n",
       "    <tr style=\"text-align: right;\">\n",
       "      <th></th>\n",
       "      <th>_id</th>\n",
       "      <th>name</th>\n",
       "      <th>total_money_raised</th>\n",
       "      <th>offices</th>\n",
       "    </tr>\n",
       "  </thead>\n",
       "  <tbody>\n",
       "    <tr>\n",
       "      <th>0</th>\n",
       "      <td>52cdef7c4bab8bd6752986b7</td>\n",
       "      <td>eRepublik</td>\n",
       "      <td>€2.75M</td>\n",
       "      <td>[{'latitude': 40.43094, 'longitude': -3.695289...</td>\n",
       "    </tr>\n",
       "    <tr>\n",
       "      <th>1</th>\n",
       "      <td>52cdef7d4bab8bd675298963</td>\n",
       "      <td>Iceberg</td>\n",
       "      <td>€400k</td>\n",
       "      <td>[{'latitude': 53.344104, 'longitude': -6.267494}]</td>\n",
       "    </tr>\n",
       "    <tr>\n",
       "      <th>2</th>\n",
       "      <td>52cdef7d4bab8bd675298aec</td>\n",
       "      <td>Dial2Do</td>\n",
       "      <td>€1M</td>\n",
       "      <td>[{'latitude': 53.34202, 'longitude': -6.250684}]</td>\n",
       "    </tr>\n",
       "    <tr>\n",
       "      <th>3</th>\n",
       "      <td>52cdef7d4bab8bd675299e60</td>\n",
       "      <td>payByMobile</td>\n",
       "      <td>€750k</td>\n",
       "      <td>[{'latitude': None, 'longitude': None}]</td>\n",
       "    </tr>\n",
       "    <tr>\n",
       "      <th>4</th>\n",
       "      <td>52cdef7e4bab8bd67529b0e2</td>\n",
       "      <td>DediServe</td>\n",
       "      <td>€1M</td>\n",
       "      <td>[{'latitude': None, 'longitude': None}, {'lati...</td>\n",
       "    </tr>\n",
       "    <tr>\n",
       "      <th>5</th>\n",
       "      <td>52cdef7e4bab8bd67529b59e</td>\n",
       "      <td>Branded Payment Solutions</td>\n",
       "      <td>€100k</td>\n",
       "      <td>[{'latitude': 53.344104, 'longitude': -6.26749...</td>\n",
       "    </tr>\n",
       "    <tr>\n",
       "      <th>6</th>\n",
       "      <td>52cdef7e4bab8bd67529b913</td>\n",
       "      <td>Xiam</td>\n",
       "      <td>€1M</td>\n",
       "      <td>[{'latitude': None, 'longitude': None}]</td>\n",
       "    </tr>\n",
       "    <tr>\n",
       "      <th>7</th>\n",
       "      <td>52cdef7f4bab8bd67529c55b</td>\n",
       "      <td>Clavis Technology</td>\n",
       "      <td>€3.66M</td>\n",
       "      <td>[{'latitude': None, 'longitude': None}, {'lati...</td>\n",
       "    </tr>\n",
       "  </tbody>\n",
       "</table>\n",
       "</div>"
      ],
      "text/plain": [
       "                        _id                       name total_money_raised  \\\n",
       "0  52cdef7c4bab8bd6752986b7                  eRepublik             €2.75M   \n",
       "1  52cdef7d4bab8bd675298963                    Iceberg              €400k   \n",
       "2  52cdef7d4bab8bd675298aec                    Dial2Do                €1M   \n",
       "3  52cdef7d4bab8bd675299e60                payByMobile              €750k   \n",
       "4  52cdef7e4bab8bd67529b0e2                  DediServe                €1M   \n",
       "5  52cdef7e4bab8bd67529b59e  Branded Payment Solutions              €100k   \n",
       "6  52cdef7e4bab8bd67529b913                       Xiam                €1M   \n",
       "7  52cdef7f4bab8bd67529c55b          Clavis Technology             €3.66M   \n",
       "\n",
       "                                             offices  \n",
       "0  [{'latitude': 40.43094, 'longitude': -3.695289...  \n",
       "1  [{'latitude': 53.344104, 'longitude': -6.267494}]  \n",
       "2   [{'latitude': 53.34202, 'longitude': -6.250684}]  \n",
       "3            [{'latitude': None, 'longitude': None}]  \n",
       "4  [{'latitude': None, 'longitude': None}, {'lati...  \n",
       "5  [{'latitude': 53.344104, 'longitude': -6.26749...  \n",
       "6            [{'latitude': None, 'longitude': None}]  \n",
       "7  [{'latitude': None, 'longitude': None}, {'lati...  "
      ]
     },
     "execution_count": 6,
     "metadata": {},
     "output_type": "execute_result"
    }
   ],
   "source": [
    "pd.DataFrame(c.find(\n",
    "    {\"$and\": [\n",
    "        {\"offices.city\": 'Dublin'},\n",
    "        {\"total_money_raised\": {'$gt': '1.0'}}\n",
    "    ]},\n",
    "    {\"name\": 1, \"rating\": 1, \"total_money_raised\": 1, 'offices.latitude':1, 'offices.longitude':1}\n",
    "))"
   ]
  },
  {
   "cell_type": "markdown",
   "metadata": {},
   "source": [
    "I decided to focus on Clavis Technology location after having analyzed Dial2Do and Iceberg mainly because of the total money raised and given the 'products/services' offered by the company. By looking at the information available, I saw Clavis Tech as a successfull tech startup company - At this point, I thought about two options: 1) buy Clavis Tech offices for my new gaming company or 2) buy an office building close to that location.\n",
    "Clavis Tech provides software products and services. The Company offers cloud-based electronic commerce intelligence and data quality performance management solutions. "
   ]
  },
  {
   "cell_type": "markdown",
   "metadata": {},
   "source": [
    "Now, let's see if the Clavis Tech office location matches my chosen requirements, which include:\n",
    "- A starbucks coffee since it is very popular among employees\n",
    "- Some place to party since workforce is aged between 25 and 40\n",
    "- A good transportation network since they need to have easy access to the airport"
   ]
  },
  {
   "cell_type": "code",
   "execution_count": 7,
   "metadata": {},
   "outputs": [],
   "source": [
    "dublin = {'type': 'Point', 'coordinates': [-6.25415, 53.32306]}\n",
    "clavis_tech = {'type': 'Point', 'coordinates': [-6.258292, 53.346976]}"
   ]
  },
  {
   "cell_type": "code",
   "execution_count": 49,
   "metadata": {},
   "outputs": [],
   "source": [
    "#map_dublin\n",
    "map_dublin = folium.Map(location = [53.346976,-6.258292], zoom_start = 15)"
   ]
  },
  {
   "cell_type": "code",
   "execution_count": 50,
   "metadata": {
    "scrolled": true
   },
   "outputs": [
    {
     "data": {
      "text/html": [
       "<div style=\"width:100%;\"><div style=\"position:relative;width:100%;height:0;padding-bottom:60%;\"><span style=\"color:#565656\">Make this Notebook Trusted to load map: File -> Trust Notebook</span><iframe src=\"about:blank\" style=\"position:absolute;width:100%;height:100%;left:0;top:0;border:none !important;\" data-html=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 onload=\"this.contentDocument.open();this.contentDocument.write(atob(this.getAttribute('data-html')));this.contentDocument.close();\" allowfullscreen webkitallowfullscreen mozallowfullscreen></iframe></div></div>"
      ],
      "text/plain": [
       "<folium.folium.Map at 0x125cb7580>"
      ]
     },
     "execution_count": 50,
     "metadata": {},
     "output_type": "execute_result"
    }
   ],
   "source": [
    "#Adding Clavis Technologies (searched coordinates in google maps since the data was missing from companies' database)\n",
    "#Location Clavis\n",
    "clavis_lat =  53.346976\n",
    "clavis_long = -6.258292\n",
    "\n",
    "#creating the icon for Clavis\n",
    "icono = Icon(color = \"red\",\n",
    "             prefix = \"fa\",\n",
    "             icon = \"briefcase\",\n",
    "             icon_color = \"black\",\n",
    "             tooltip = \"Clavis Tech\"\n",
    ")\n",
    "loc = [clavis_lat, clavis_long]\n",
    "#saving the marker in one variable\n",
    "marker_clavis = Marker(location = loc, icon = icono)\n",
    "#let's add the marker to the original dublin map where we already had Dial2do location saved\n",
    "marker_clavis.add_to(map_dublin)\n",
    "map_dublin"
   ]
  },
  {
   "cell_type": "markdown",
   "metadata": {},
   "source": [
    "As we can see above, the red suitcase marker represents Clavis Technology, the starting point that I have used to conduct my ideal office location based on the above mentioned requirements."
   ]
  },
  {
   "cell_type": "markdown",
   "metadata": {},
   "source": [
    "By using Foursquare API [https://foursquare.com/developers/apps], I was able to conduct different calls to find the above mentioned requirements. Additionally, I also studied other venues such as veterinarian, vegan restaurants etc, which can be found in the notebook called 'Analysing Dublin Office Location'. However, I decided not to include them since the results were not accurate.\n",
    "I used Clavis Tech location coordinates as the starting point and analyzed the different venues from there."
   ]
  },
  {
   "cell_type": "markdown",
   "metadata": {},
   "source": [
    "## Starbucks"
   ]
  },
  {
   "cell_type": "markdown",
   "metadata": {},
   "source": [
    "Let's take a look at the starbucks requirement. Further details can be found in 'Analysing Dublin Office Location' notebook. "
   ]
  },
  {
   "cell_type": "code",
   "execution_count": 30,
   "metadata": {},
   "outputs": [
    {
     "data": {
      "text/plain": [
       "True"
      ]
     },
     "execution_count": 30,
     "metadata": {},
     "output_type": "execute_result"
    }
   ],
   "source": [
    "load_dotenv()"
   ]
  },
  {
   "cell_type": "code",
   "execution_count": 31,
   "metadata": {},
   "outputs": [],
   "source": [
    "tok1 = os.getenv(\"tok1\")\n",
    "tok2 = os.getenv(\"tok2\")"
   ]
  },
  {
   "cell_type": "code",
   "execution_count": 51,
   "metadata": {},
   "outputs": [],
   "source": [
    "#url and Starbucks venue chain ID\n",
    "enlace = 'https://api.foursquare.com/v2/venues/explore'\n",
    "starbucks = \"556f676fbd6a75a99038d8ec\""
   ]
  },
  {
   "cell_type": "code",
   "execution_count": 52,
   "metadata": {},
   "outputs": [],
   "source": [
    "#params to be taken into account in calling FourSquare API\n",
    "parametros = { \"client_id\" : tok1,\n",
    "          \"client_secret\" : tok2,\n",
    "          \"v\" : \"20180323\",\n",
    "          \"ll\": f\"{clavis_tech.get('coordinates')[1]},{clavis_tech.get('coordinates')[0]}\",\n",
    "          \"query\": f\"{starbucks}\",\n",
    "          \"limit\" : 10\n",
    "}"
   ]
  },
  {
   "cell_type": "code",
   "execution_count": 53,
   "metadata": {},
   "outputs": [],
   "source": [
    "resp = requests.get (url = enlace, params = parametros)\n",
    "data = json.loads(resp.text)"
   ]
  },
  {
   "cell_type": "code",
   "execution_count": 54,
   "metadata": {},
   "outputs": [],
   "source": [
    "decoding_data = data.get('response')\n",
    "decoded = decoding_data.get('groups')[0]\n",
    "starbucks = decoded.get('items')"
   ]
  },
  {
   "cell_type": "code",
   "execution_count": 55,
   "metadata": {},
   "outputs": [],
   "source": [
    "mapa_nombre = [\"venue\",\"name\"]\n",
    "latitud = [\"venue\", \"location\",\"lat\"]\n",
    "longitud = [\"venue\",\"location\",\"lng\"]"
   ]
  },
  {
   "cell_type": "code",
   "execution_count": 56,
   "metadata": {},
   "outputs": [],
   "source": [
    "new_list = []\n",
    "for diccionario in starbucks:\n",
    "    starbuckslist = {}\n",
    "    starbuckslist[\"name\"] = getFromDict(diccionario,mapa_nombre)\n",
    "    starbuckslist[\"latitud\"] = getFromDict(diccionario,latitud)\n",
    "    starbuckslist[\"longitud\"] = getFromDict(diccionario,longitud)\n",
    "    new_list.append(starbuckslist)"
   ]
  },
  {
   "cell_type": "code",
   "execution_count": 57,
   "metadata": {},
   "outputs": [
    {
     "data": {
      "text/html": [
       "<div>\n",
       "<style scoped>\n",
       "    .dataframe tbody tr th:only-of-type {\n",
       "        vertical-align: middle;\n",
       "    }\n",
       "\n",
       "    .dataframe tbody tr th {\n",
       "        vertical-align: top;\n",
       "    }\n",
       "\n",
       "    .dataframe thead th {\n",
       "        text-align: right;\n",
       "    }\n",
       "</style>\n",
       "<table border=\"1\" class=\"dataframe\">\n",
       "  <thead>\n",
       "    <tr style=\"text-align: right;\">\n",
       "      <th></th>\n",
       "      <th>name</th>\n",
       "      <th>latitud</th>\n",
       "      <th>longitud</th>\n",
       "    </tr>\n",
       "  </thead>\n",
       "  <tbody>\n",
       "    <tr>\n",
       "      <th>0</th>\n",
       "      <td>DoubleTree by Hilton</td>\n",
       "      <td>53.346559</td>\n",
       "      <td>-6.265901</td>\n",
       "    </tr>\n",
       "    <tr>\n",
       "      <th>1</th>\n",
       "      <td>Farrier &amp; Draper</td>\n",
       "      <td>53.342417</td>\n",
       "      <td>-6.262255</td>\n",
       "    </tr>\n",
       "    <tr>\n",
       "      <th>2</th>\n",
       "      <td>The Shelbourne Dublin, A Renaissance Hotel</td>\n",
       "      <td>53.338972</td>\n",
       "      <td>-6.256014</td>\n",
       "    </tr>\n",
       "    <tr>\n",
       "      <th>3</th>\n",
       "      <td>TOSS'D Noodles &amp; Salads</td>\n",
       "      <td>53.348874</td>\n",
       "      <td>-6.247886</td>\n",
       "    </tr>\n",
       "    <tr>\n",
       "      <th>4</th>\n",
       "      <td>FXB Steak &amp; Seafood</td>\n",
       "      <td>53.337314</td>\n",
       "      <td>-6.251954</td>\n",
       "    </tr>\n",
       "  </tbody>\n",
       "</table>\n",
       "</div>"
      ],
      "text/plain": [
       "                                         name    latitud  longitud\n",
       "0                        DoubleTree by Hilton  53.346559 -6.265901\n",
       "1                            Farrier & Draper  53.342417 -6.262255\n",
       "2  The Shelbourne Dublin, A Renaissance Hotel  53.338972 -6.256014\n",
       "3                     TOSS'D Noodles & Salads  53.348874 -6.247886\n",
       "4                         FXB Steak & Seafood  53.337314 -6.251954"
      ]
     },
     "execution_count": 57,
     "metadata": {},
     "output_type": "execute_result"
    }
   ],
   "source": [
    "dataframestarbucks = pd.DataFrame(new_list)\n",
    "dataframestarbucks.head()"
   ]
  },
  {
   "cell_type": "code",
   "execution_count": 58,
   "metadata": {},
   "outputs": [
    {
     "name": "stdout",
     "output_type": "stream",
     "text": [
      "DoubleTree by Hilton 507.3533169653642\n",
      "Farrier & Draper 571.2965056892294\n",
      "The Shelbourne Dublin 1126.9636091398845\n",
      "TOSSD Noodles & Salads 722.4592739043518\n",
      "FXB Steak & Seafood 1154.1466690405266\n"
     ]
    }
   ],
   "source": [
    "#Let's see which starbucks is closer to Clavis Tech\n",
    "clavis_tech_coord = 53.346976,  -6.258292\n",
    "starbucks = {\n",
    "    'DoubleTree by Hilton': (53.346559,  -6.265901),\n",
    "    'Farrier & Draper': (53.342417,  -6.262255),\n",
    "    'The Shelbourne Dublin': (53.338972, -6.247886),\n",
    "    'TOSSD Noodles & Salads': (53.348874,  -6.247886),\n",
    "    'FXB Steak & Seafood': (53.337314,  -6.251954)\n",
    "}\n",
    "\n",
    "for places, coord in starbucks.items():\n",
    "    distance = haversine(clavis_tech_coord, coord)\n",
    "    print(places, distance)\n",
    "#We can see DoubleTree Hilton is 500m away -> chosen starbucks"
   ]
  },
  {
   "cell_type": "code",
   "execution_count": 59,
   "metadata": {
    "scrolled": true
   },
   "outputs": [
    {
     "data": {
      "text/html": [
       "<div style=\"width:100%;\"><div style=\"position:relative;width:100%;height:0;padding-bottom:60%;\"><span style=\"color:#565656\">Make this Notebook Trusted to load map: File -> Trust Notebook</span><iframe src=\"about:blank\" style=\"position:absolute;width:100%;height:100%;left:0;top:0;border:none !important;\" data-html=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 onload=\"this.contentDocument.open();this.contentDocument.write(atob(this.getAttribute('data-html')));this.contentDocument.close();\" allowfullscreen webkitallowfullscreen mozallowfullscreen></iframe></div></div>"
      ],
      "text/plain": [
       "<folium.folium.Map at 0x125cb7580>"
      ]
     },
     "execution_count": 59,
     "metadata": {},
     "output_type": "execute_result"
    }
   ],
   "source": [
    "#Adding closest Starbucks to dublin map\n",
    "#Location Clavis\n",
    "starbucks_lat =  53.346559\n",
    "starbucks_long = -6.265901\n",
    "\n",
    "#creating the icon for Starbucks\n",
    "icono = Icon(color = \"darkgreen\",\n",
    "             prefix = \"fa\",\n",
    "             icon = \"coffee\",\n",
    "             icon_color = \"black\",\n",
    "             tooltip = \"Starbucks\"\n",
    ")\n",
    "loc = [starbucks_lat, starbucks_long]\n",
    "#saving the marker in one variable\n",
    "marker_starbucks = Marker(location = loc, icon = icono)\n",
    "#let's add the marker to the map where we already had Clavis Tech location saved\n",
    "marker_starbucks.add_to(map_dublin)\n",
    "map_dublin"
   ]
  },
  {
   "cell_type": "markdown",
   "metadata": {},
   "source": [
    "## Irish Pubs"
   ]
  },
  {
   "cell_type": "markdown",
   "metadata": {},
   "source": [
    "Now, let's take a look at the 'party' requirement. Further details can be found in 'Analysing Dublin Office Location' notebook. "
   ]
  },
  {
   "cell_type": "code",
   "execution_count": 41,
   "metadata": {},
   "outputs": [],
   "source": [
    "enlace = 'https://api.foursquare.com/v2/venues/explore'\n",
    "irish_pubs = \"52e81612bcbc57f1066b7a06\"\n",
    "parametros = { \"client_id\" : tok1,\n",
    "          \"client_secret\" : tok2,\n",
    "          \"v\" : \"20180323\",\n",
    "          \"ll\": f\"{clavis_tech.get('coordinates')[1]},{clavis_tech.get('coordinates')[0]}\",\n",
    "          \"query\": f\"{irish_pubs}\",\n",
    "          \"limit\" : 10\n",
    "}"
   ]
  },
  {
   "cell_type": "code",
   "execution_count": 42,
   "metadata": {},
   "outputs": [],
   "source": [
    "resp = requests.get (url = enlace, params = parametros)\n",
    "data = json.loads(resp.text)"
   ]
  },
  {
   "cell_type": "code",
   "execution_count": 43,
   "metadata": {},
   "outputs": [],
   "source": [
    "decoding_data = data.get('response')\n",
    "decoded = decoding_data.get('groups')[0]\n",
    "irish_pubs = decoded.get('items')"
   ]
  },
  {
   "cell_type": "code",
   "execution_count": 44,
   "metadata": {},
   "outputs": [],
   "source": [
    "mapa_nombre = [\"venue\",\"name\"]\n",
    "latitud = [\"venue\", \"location\",\"lat\"]\n",
    "longitud = [\"venue\",\"location\",\"lng\"]"
   ]
  },
  {
   "cell_type": "code",
   "execution_count": 45,
   "metadata": {
    "scrolled": true
   },
   "outputs": [
    {
     "data": {
      "text/html": [
       "<div>\n",
       "<style scoped>\n",
       "    .dataframe tbody tr th:only-of-type {\n",
       "        vertical-align: middle;\n",
       "    }\n",
       "\n",
       "    .dataframe tbody tr th {\n",
       "        vertical-align: top;\n",
       "    }\n",
       "\n",
       "    .dataframe thead th {\n",
       "        text-align: right;\n",
       "    }\n",
       "</style>\n",
       "<table border=\"1\" class=\"dataframe\">\n",
       "  <thead>\n",
       "    <tr style=\"text-align: right;\">\n",
       "      <th></th>\n",
       "      <th>name</th>\n",
       "      <th>latitud</th>\n",
       "      <th>longitud</th>\n",
       "    </tr>\n",
       "  </thead>\n",
       "  <tbody>\n",
       "    <tr>\n",
       "      <th>0</th>\n",
       "      <td>Trinity College Old Library &amp; The Book of Kell...</td>\n",
       "      <td>53.343692</td>\n",
       "      <td>-6.256907</td>\n",
       "    </tr>\n",
       "    <tr>\n",
       "      <th>1</th>\n",
       "      <td>FXB Grill</td>\n",
       "      <td>53.344593</td>\n",
       "      <td>-6.263811</td>\n",
       "    </tr>\n",
       "    <tr>\n",
       "      <th>2</th>\n",
       "      <td>Fallon &amp; Byrne Food Store</td>\n",
       "      <td>53.343074</td>\n",
       "      <td>-6.263233</td>\n",
       "    </tr>\n",
       "    <tr>\n",
       "      <th>3</th>\n",
       "      <td>Fallon &amp; Byrne Wine Cellar</td>\n",
       "      <td>53.343078</td>\n",
       "      <td>-6.263275</td>\n",
       "    </tr>\n",
       "    <tr>\n",
       "      <th>4</th>\n",
       "      <td>FXB Steak &amp; Seafood</td>\n",
       "      <td>53.337314</td>\n",
       "      <td>-6.251954</td>\n",
       "    </tr>\n",
       "  </tbody>\n",
       "</table>\n",
       "</div>"
      ],
      "text/plain": [
       "                                                name    latitud  longitud\n",
       "0  Trinity College Old Library & The Book of Kell...  53.343692 -6.256907\n",
       "1                                          FXB Grill  53.344593 -6.263811\n",
       "2                          Fallon & Byrne Food Store  53.343074 -6.263233\n",
       "3                         Fallon & Byrne Wine Cellar  53.343078 -6.263275\n",
       "4                                FXB Steak & Seafood  53.337314 -6.251954"
      ]
     },
     "execution_count": 45,
     "metadata": {},
     "output_type": "execute_result"
    }
   ],
   "source": [
    "new_list2 = []\n",
    "for diccionario in irish_pubs:\n",
    "    irishpubslist = {}\n",
    "    irishpubslist[\"name\"] = getFromDict(diccionario,mapa_nombre)\n",
    "    irishpubslist[\"latitud\"] = getFromDict(diccionario,latitud)\n",
    "    irishpubslist[\"longitud\"] = getFromDict(diccionario,longitud)\n",
    "    new_list2.append(irishpubslist)\n",
    "    \n",
    "dataframeirish = pd.DataFrame(new_list2)\n",
    "dataframeirish.head()"
   ]
  },
  {
   "cell_type": "code",
   "execution_count": 46,
   "metadata": {},
   "outputs": [
    {
     "name": "stdout",
     "output_type": "stream",
     "text": [
      "Trinity College 376.66677437137986\n",
      "FXB Grill 452.2702595799134\n",
      "Fallon & Byrne Food Store 544.0621470953885\n",
      "Fallon & Byrne Wine Cellar 545.3947205415539\n",
      "FXB Steak & Seafood 1154.1466690405266\n"
     ]
    }
   ],
   "source": [
    "#Let's now calculate distantes to irish pubs\n",
    "clavis_tech_coord = 53.346976,  -6.258292\n",
    "irish_pubs = {\n",
    "    'Trinity College': (53.343692,  -6.256907),\n",
    "    'FXB Grill': (53.344593,  -6.263811),\n",
    "    'Fallon & Byrne Food Store': (53.343074, -6.263233),\n",
    "    'Fallon & Byrne Wine Cellar': (53.343078,  -6.263275),\n",
    "    'FXB Steak & Seafood': (53.337314,  -6.251954)\n",
    "}\n",
    "\n",
    "for places, coord in irish_pubs.items():\n",
    "    distance = haversine(clavis_tech_coord, coord)\n",
    "    print(places, distance)\n",
    "#We can see there are many irish pubs nearby: Trinity College and FXB Grill less than 500m away"
   ]
  },
  {
   "cell_type": "code",
   "execution_count": 60,
   "metadata": {},
   "outputs": [
    {
     "data": {
      "text/html": [
       "<div style=\"width:100%;\"><div style=\"position:relative;width:100%;height:0;padding-bottom:60%;\"><span style=\"color:#565656\">Make this Notebook Trusted to load map: File -> Trust Notebook</span><iframe src=\"about:blank\" style=\"position:absolute;width:100%;height:100%;left:0;top:0;border:none !important;\" data-html=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 onload=\"this.contentDocument.open();this.contentDocument.write(atob(this.getAttribute('data-html')));this.contentDocument.close();\" allowfullscreen webkitallowfullscreen mozallowfullscreen></iframe></div></div>"
      ],
      "text/plain": [
       "<folium.folium.Map at 0x125cb7580>"
      ]
     },
     "execution_count": 60,
     "metadata": {},
     "output_type": "execute_result"
    }
   ],
   "source": [
    "#Adding closest Irish pub to dublin map\n",
    "#Location Irish Pub\n",
    "pub_lat =  53.343692\n",
    "pub_long = -6.256907\n",
    "\n",
    "#creating the icon for Irish Pub\n",
    "icono = Icon(color = \"orange\",\n",
    "             prefix = \"fa\",\n",
    "             icon = \"beer\",\n",
    "             icon_color = \"black\",\n",
    "             tooltip = \"Irish Pub\"\n",
    ")\n",
    "loc = [pub_lat, pub_long]\n",
    "#saving the marker in one variable\n",
    "marker_pub = Marker(location = loc, icon = icono)\n",
    "#let's add the marker to the map where we already had Clavis Tech location saved\n",
    "marker_pub.add_to(map_dublin)\n",
    "map_dublin"
   ]
  },
  {
   "cell_type": "markdown",
   "metadata": {},
   "source": [
    "By taking a look at the map, I can see there is a good transportation network too, which will make the airport access easier and faster since the account managers need to travel a lot. In fact, Westmoreland tram station is only 80m away and there are other close tram stops nearby, such as the one in Tara St and in Trinity Luas."
   ]
  },
  {
   "cell_type": "markdown",
   "metadata": {},
   "source": [
    "## Conclusion"
   ]
  },
  {
   "cell_type": "markdown",
   "metadata": {},
   "source": [
    "Clavis Tech office buildings seem to be the perfect spot for the new gaming company since it meets all the above mentioned requirements.The coordinates are: [-6.258292, 53.346976]. "
   ]
  }
 ],
 "metadata": {
  "kernelspec": {
   "display_name": "Python 3",
   "language": "python",
   "name": "python3"
  },
  "language_info": {
   "codemirror_mode": {
    "name": "ipython",
    "version": 3
   },
   "file_extension": ".py",
   "mimetype": "text/x-python",
   "name": "python",
   "nbconvert_exporter": "python",
   "pygments_lexer": "ipython3",
   "version": "3.8.6"
  }
 },
 "nbformat": 4,
 "nbformat_minor": 4
}
