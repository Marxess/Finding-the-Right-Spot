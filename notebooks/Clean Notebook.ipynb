{
 "cells": [
  {
   "cell_type": "markdown",
   "metadata": {},
   "source": [
    "# Finding the Right Spot"
   ]
  },
  {
   "cell_type": "markdown",
   "metadata": {},
   "source": [
    "Requirements:\n",
    "- Developers like to be near successful tech startups that have raised at least 1 Million dollars.\n",
    "- Executives like Starbucks A LOT. Ensure there's a starbucks not too far.\n",
    "- Account managers need to travel a lot.\n",
    "- Everyone in the company is between 25 and 40, give them some place to go party.\n",
    "- The office dog—\"Pepe\" needs a hairdresser every month. Ensure there's one not too far away."
   ]
  },
  {
   "cell_type": "code",
   "execution_count": 1,
   "metadata": {},
   "outputs": [],
   "source": [
    "#importing necessary libraries\n",
    "import folium\n",
    "from folium import Choropleth, Circle, Marker, Icon, Map\n",
    "from folium.plugins import HeatMap, MarkerCluster\n",
    "import pandas as pd\n",
    "import os\n",
    "import requests\n",
    "import json\n",
    "from dotenv import load_dotenv\n",
    "from pymongo import MongoClient\n",
    "import geopandas as gpd\n",
    "from functools import reduce\n",
    "import operator\n",
    "import geopandas as gpd"
   ]
  },
  {
   "cell_type": "code",
   "execution_count": 2,
   "metadata": {},
   "outputs": [],
   "source": [
    "#functions\n",
    "def getFromDict(diccionario,mapa):\n",
    "    return reduce(operator.getitem,mapa,diccionario)\n",
    "\n",
    "# Calculate Distance Between GPS Points\n",
    "\n",
    "import math\n",
    "\n",
    "def haversine(coord1, coord2):\n",
    "    R = 6372800  # Earth radius in meters\n",
    "    lat1, lon1 = coord1\n",
    "    lat2, lon2 = coord2\n",
    "    \n",
    "    phi1, phi2 = math.radians(lat1), math.radians(lat2) \n",
    "    dphi       = math.radians(lat2 - lat1)\n",
    "    dlambda    = math.radians(lon2 - lon1)\n",
    "    \n",
    "    a = math.sin(dphi/2)**2 + \\\n",
    "        math.cos(phi1)*math.cos(phi2)*math.sin(dlambda/2)**2\n",
    "    \n",
    "    return 2*R*math.atan2(math.sqrt(a), math.sqrt(1 - a))"
   ]
  },
  {
   "cell_type": "code",
   "execution_count": 3,
   "metadata": {},
   "outputs": [],
   "source": [
    "#checking connection and getting the database 'companies'\n",
    "conn = MongoClient(\"localhost:27017\")\n",
    "db = conn.get_database(\"ironhack\")\n",
    "collection = db.get_collection(\"companies\")"
   ]
  },
  {
   "cell_type": "code",
   "execution_count": 4,
   "metadata": {},
   "outputs": [],
   "source": [
    "c = collection"
   ]
  },
  {
   "cell_type": "markdown",
   "metadata": {},
   "source": [
    "I filtered the database 'companies' to find those with offices in Dublin and which had raised over €1.0M. The dataframe below shows the results obtained."
   ]
  },
  {
   "cell_type": "markdown",
   "metadata": {},
   "source": [
    "### Why Dublin?\n",
    "- **Low Taxes**\n",
    "Thanks to the governmental effort to welcome new businesses and support creation of a more diverse job market, Dublin has the most attractive corporate tax rates in the world – just 12,5 %. R&D expenditure generates a 25% tax credit for offset against corporate taxes in addition to a tax deduction at 12.5% — this means that companies can claim a refund of €37.50 for every €100 worth of R&D expenditure.\n",
    "- **Talented workforce**\n",
    "Significantly cheaper than London, Dublin attracts young tech talent from all over the world. Dublin produces over 26 thousand graduates every year and is home to three internationally-ranked universities — Trinity College Dublin, University College Dublin and Dublin City University. That’s already a huge talent pool right there. Global Talent Competitiveness Index ranked Dublin among the top 10 cities for attracting and retaining talent.\n",
    "- **Ireland Help**\n",
    "Ireland’s Local Enterprise Office (LEO) spearheads business support for companies looking to relocate to Ireland through mentoring, training and grants ranging from €15,000 to help companies research market demand to €80,000 for expansion."
   ]
  },
  {
   "cell_type": "code",
   "execution_count": 5,
   "metadata": {},
   "outputs": [
    {
     "data": {
      "text/html": [
       "<div>\n",
       "<style scoped>\n",
       "    .dataframe tbody tr th:only-of-type {\n",
       "        vertical-align: middle;\n",
       "    }\n",
       "\n",
       "    .dataframe tbody tr th {\n",
       "        vertical-align: top;\n",
       "    }\n",
       "\n",
       "    .dataframe thead th {\n",
       "        text-align: right;\n",
       "    }\n",
       "</style>\n",
       "<table border=\"1\" class=\"dataframe\">\n",
       "  <thead>\n",
       "    <tr style=\"text-align: right;\">\n",
       "      <th></th>\n",
       "      <th>_id</th>\n",
       "      <th>name</th>\n",
       "      <th>total_money_raised</th>\n",
       "      <th>offices</th>\n",
       "    </tr>\n",
       "  </thead>\n",
       "  <tbody>\n",
       "    <tr>\n",
       "      <th>0</th>\n",
       "      <td>52cdef7c4bab8bd6752986b7</td>\n",
       "      <td>eRepublik</td>\n",
       "      <td>€2.75M</td>\n",
       "      <td>[{'latitude': 40.43094, 'longitude': -3.695289...</td>\n",
       "    </tr>\n",
       "    <tr>\n",
       "      <th>1</th>\n",
       "      <td>52cdef7d4bab8bd675298963</td>\n",
       "      <td>Iceberg</td>\n",
       "      <td>€400k</td>\n",
       "      <td>[{'latitude': 53.344104, 'longitude': -6.267494}]</td>\n",
       "    </tr>\n",
       "    <tr>\n",
       "      <th>2</th>\n",
       "      <td>52cdef7d4bab8bd675298aec</td>\n",
       "      <td>Dial2Do</td>\n",
       "      <td>€1M</td>\n",
       "      <td>[{'latitude': 53.34202, 'longitude': -6.250684}]</td>\n",
       "    </tr>\n",
       "    <tr>\n",
       "      <th>3</th>\n",
       "      <td>52cdef7d4bab8bd675299e60</td>\n",
       "      <td>payByMobile</td>\n",
       "      <td>€750k</td>\n",
       "      <td>[{'latitude': None, 'longitude': None}]</td>\n",
       "    </tr>\n",
       "    <tr>\n",
       "      <th>4</th>\n",
       "      <td>52cdef7e4bab8bd67529b0e2</td>\n",
       "      <td>DediServe</td>\n",
       "      <td>€1M</td>\n",
       "      <td>[{'latitude': None, 'longitude': None}, {'lati...</td>\n",
       "    </tr>\n",
       "    <tr>\n",
       "      <th>5</th>\n",
       "      <td>52cdef7e4bab8bd67529b59e</td>\n",
       "      <td>Branded Payment Solutions</td>\n",
       "      <td>€100k</td>\n",
       "      <td>[{'latitude': 53.344104, 'longitude': -6.26749...</td>\n",
       "    </tr>\n",
       "    <tr>\n",
       "      <th>6</th>\n",
       "      <td>52cdef7e4bab8bd67529b913</td>\n",
       "      <td>Xiam</td>\n",
       "      <td>€1M</td>\n",
       "      <td>[{'latitude': None, 'longitude': None}]</td>\n",
       "    </tr>\n",
       "    <tr>\n",
       "      <th>7</th>\n",
       "      <td>52cdef7f4bab8bd67529c55b</td>\n",
       "      <td>Clavis Technology</td>\n",
       "      <td>€3.66M</td>\n",
       "      <td>[{'latitude': None, 'longitude': None}, {'lati...</td>\n",
       "    </tr>\n",
       "  </tbody>\n",
       "</table>\n",
       "</div>"
      ],
      "text/plain": [
       "                        _id                       name total_money_raised  \\\n",
       "0  52cdef7c4bab8bd6752986b7                  eRepublik             €2.75M   \n",
       "1  52cdef7d4bab8bd675298963                    Iceberg              €400k   \n",
       "2  52cdef7d4bab8bd675298aec                    Dial2Do                €1M   \n",
       "3  52cdef7d4bab8bd675299e60                payByMobile              €750k   \n",
       "4  52cdef7e4bab8bd67529b0e2                  DediServe                €1M   \n",
       "5  52cdef7e4bab8bd67529b59e  Branded Payment Solutions              €100k   \n",
       "6  52cdef7e4bab8bd67529b913                       Xiam                €1M   \n",
       "7  52cdef7f4bab8bd67529c55b          Clavis Technology             €3.66M   \n",
       "\n",
       "                                             offices  \n",
       "0  [{'latitude': 40.43094, 'longitude': -3.695289...  \n",
       "1  [{'latitude': 53.344104, 'longitude': -6.267494}]  \n",
       "2   [{'latitude': 53.34202, 'longitude': -6.250684}]  \n",
       "3            [{'latitude': None, 'longitude': None}]  \n",
       "4  [{'latitude': None, 'longitude': None}, {'lati...  \n",
       "5  [{'latitude': 53.344104, 'longitude': -6.26749...  \n",
       "6            [{'latitude': None, 'longitude': None}]  \n",
       "7  [{'latitude': None, 'longitude': None}, {'lati...  "
      ]
     },
     "execution_count": 5,
     "metadata": {},
     "output_type": "execute_result"
    }
   ],
   "source": [
    "pd.DataFrame(c.find(\n",
    "    {\"$and\": [\n",
    "        {\"offices.city\": 'Dublin'},\n",
    "        {\"total_money_raised\": {'$gt': '1.0'}}\n",
    "    ]},\n",
    "    {\"name\": 1, \"rating\": 1, \"total_money_raised\": 1, 'offices.latitude':1, 'offices.longitude':1}\n",
    "))"
   ]
  },
  {
   "cell_type": "markdown",
   "metadata": {},
   "source": [
    "I decided to focus on Clavis Technology location after having analyzed Dial2Do and Iceberg mainly because of the total money raised and given the 'products/services' offered by the company. By looking at the information available, I saw Clavis Tech as a successfull tech startup company - At this point, I thought about two options: 1) buy Clavis Tech offices for my new gaming company or 2) buy an office building close to that location.\n",
    "Clavis Tech provides software products and services. The Company offers cloud-based electronic commerce intelligence and data quality performance management solutions. "
   ]
  },
  {
   "cell_type": "markdown",
   "metadata": {},
   "source": [
    "Now, let's see if the Clavis Tech office location matches my chosen requirements, which include:\n",
    "- A starbucks coffee since it is very popular among employees\n",
    "- Some place to party since workforce is aged between 25 and 40\n",
    "- A good transportation network since they need to have easy access to the airport"
   ]
  },
  {
   "cell_type": "code",
   "execution_count": 6,
   "metadata": {},
   "outputs": [],
   "source": [
    "dublin = {'type': 'Point', 'coordinates': [-6.25415, 53.32306]}\n",
    "clavis_tech = {'type': 'Point', 'coordinates': [-6.258292, 53.346976]}"
   ]
  },
  {
   "cell_type": "code",
   "execution_count": 7,
   "metadata": {},
   "outputs": [],
   "source": [
    "#map_dublin\n",
    "map_dublin = folium.Map(location = [53.346976,-6.258292], zoom_start = 15)"
   ]
  },
  {
   "cell_type": "code",
   "execution_count": 8,
   "metadata": {
    "scrolled": true
   },
   "outputs": [
    {
     "data": {
      "text/html": [
       "<div style=\"width:100%;\"><div style=\"position:relative;width:100%;height:0;padding-bottom:60%;\"><span style=\"color:#565656\">Make this Notebook Trusted to load map: File -> Trust Notebook</span><iframe src=\"about:blank\" style=\"position:absolute;width:100%;height:100%;left:0;top:0;border:none !important;\" data-html=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 onload=\"this.contentDocument.open();this.contentDocument.write(atob(this.getAttribute('data-html')));this.contentDocument.close();\" allowfullscreen webkitallowfullscreen mozallowfullscreen></iframe></div></div>"
      ],
      "text/plain": [
       "<folium.folium.Map at 0x11cf49a30>"
      ]
     },
     "execution_count": 8,
     "metadata": {},
     "output_type": "execute_result"
    }
   ],
   "source": [
    "#Adding Clavis Technologies (searched coordinates in google maps since the data was missing from companies' database)\n",
    "#Location Clavis\n",
    "clavis_lat =  53.346976\n",
    "clavis_long = -6.258292\n",
    "\n",
    "#creating the icon for Clavis\n",
    "icono = Icon(color = \"red\",\n",
    "             prefix = \"fa\",\n",
    "             icon = \"briefcase\",\n",
    "             icon_color = \"black\",\n",
    "             tooltip = \"Clavis Tech\"\n",
    ")\n",
    "loc = [clavis_lat, clavis_long]\n",
    "#saving the marker in one variable\n",
    "marker_clavis = Marker(location = loc, icon = icono)\n",
    "#let's add the marker to the original dublin map where we already had Dial2do location saved\n",
    "marker_clavis.add_to(map_dublin)\n",
    "map_dublin"
   ]
  },
  {
   "cell_type": "markdown",
   "metadata": {},
   "source": [
    "As we can see above, the red suitcase marker represents Clavis Technology, the starting point that I have used to conduct my ideal office location based on the above mentioned requirements."
   ]
  },
  {
   "cell_type": "markdown",
   "metadata": {},
   "source": [
    "By using Foursquare API [https://foursquare.com/developers/apps], I was able to conduct different calls to find the above mentioned requirements. Additionally, I also studied other venues such as veterinarian, vegan restaurants etc, which can be found in the notebook called 'Analysing Dublin Office Location'. However, I decided not to include them since the results were not accurate.\n",
    "I used Clavis Tech location coordinates as the starting point and analyzed the different venues from there."
   ]
  },
  {
   "cell_type": "markdown",
   "metadata": {},
   "source": [
    "## Starbucks"
   ]
  },
  {
   "cell_type": "markdown",
   "metadata": {},
   "source": [
    "Let's take a look at the starbucks requirement. Further details can be found in 'Analysing Dublin Office Location' notebook. "
   ]
  },
  {
   "cell_type": "code",
   "execution_count": 9,
   "metadata": {},
   "outputs": [
    {
     "data": {
      "text/plain": [
       "True"
      ]
     },
     "execution_count": 9,
     "metadata": {},
     "output_type": "execute_result"
    }
   ],
   "source": [
    "load_dotenv()"
   ]
  },
  {
   "cell_type": "code",
   "execution_count": 10,
   "metadata": {},
   "outputs": [],
   "source": [
    "tok1 = os.getenv(\"tok1\")\n",
    "tok2 = os.getenv(\"tok2\")"
   ]
  },
  {
   "cell_type": "code",
   "execution_count": 11,
   "metadata": {},
   "outputs": [],
   "source": [
    "#url and Starbucks venue chain ID\n",
    "enlace = 'https://api.foursquare.com/v2/venues/explore'\n",
    "starbucks = \"556f676fbd6a75a99038d8ec\""
   ]
  },
  {
   "cell_type": "code",
   "execution_count": 12,
   "metadata": {},
   "outputs": [],
   "source": [
    "#params to be taken into account in calling FourSquare API\n",
    "parametros = { \"client_id\" : tok1,\n",
    "          \"client_secret\" : tok2,\n",
    "          \"v\" : \"20180323\",\n",
    "          \"ll\": f\"{clavis_tech.get('coordinates')[1]},{clavis_tech.get('coordinates')[0]}\",\n",
    "          \"query\": \"starbucks\",\n",
    "          \"limit\" : 10\n",
    "}"
   ]
  },
  {
   "cell_type": "code",
   "execution_count": 13,
   "metadata": {},
   "outputs": [],
   "source": [
    "resp = requests.get (url = enlace, params = parametros)\n",
    "data = json.loads(resp.text)"
   ]
  },
  {
   "cell_type": "code",
   "execution_count": 14,
   "metadata": {},
   "outputs": [],
   "source": [
    "decoding_data = data.get('response')\n",
    "decoded = decoding_data.get('groups')[0]\n",
    "starbucks = decoded.get('items')"
   ]
  },
  {
   "cell_type": "code",
   "execution_count": 15,
   "metadata": {},
   "outputs": [],
   "source": [
    "mapa_nombre = [\"venue\",\"name\"]\n",
    "latitud = [\"venue\", \"location\",\"lat\"]\n",
    "longitud = [\"venue\",\"location\",\"lng\"]"
   ]
  },
  {
   "cell_type": "code",
   "execution_count": 16,
   "metadata": {},
   "outputs": [],
   "source": [
    "new_list = []\n",
    "for diccionario in starbucks:\n",
    "    starbuckslist = {}\n",
    "    starbuckslist[\"name\"] = getFromDict(diccionario,mapa_nombre)\n",
    "    starbuckslist[\"latitud\"] = getFromDict(diccionario,latitud)\n",
    "    starbuckslist[\"longitud\"] = getFromDict(diccionario,longitud)\n",
    "    new_list.append(starbuckslist)"
   ]
  },
  {
   "cell_type": "code",
   "execution_count": 17,
   "metadata": {},
   "outputs": [
    {
     "data": {
      "text/html": [
       "<div>\n",
       "<style scoped>\n",
       "    .dataframe tbody tr th:only-of-type {\n",
       "        vertical-align: middle;\n",
       "    }\n",
       "\n",
       "    .dataframe tbody tr th {\n",
       "        vertical-align: top;\n",
       "    }\n",
       "\n",
       "    .dataframe thead th {\n",
       "        text-align: right;\n",
       "    }\n",
       "</style>\n",
       "<table border=\"1\" class=\"dataframe\">\n",
       "  <thead>\n",
       "    <tr style=\"text-align: right;\">\n",
       "      <th></th>\n",
       "      <th>name</th>\n",
       "      <th>latitud</th>\n",
       "      <th>longitud</th>\n",
       "    </tr>\n",
       "  </thead>\n",
       "  <tbody>\n",
       "    <tr>\n",
       "      <th>0</th>\n",
       "      <td>Starbucks</td>\n",
       "      <td>53.347591</td>\n",
       "      <td>-6.259555</td>\n",
       "    </tr>\n",
       "    <tr>\n",
       "      <th>1</th>\n",
       "      <td>Starbucks</td>\n",
       "      <td>53.350007</td>\n",
       "      <td>-6.259033</td>\n",
       "    </tr>\n",
       "    <tr>\n",
       "      <th>2</th>\n",
       "      <td>Starbucks</td>\n",
       "      <td>53.349626</td>\n",
       "      <td>-6.261584</td>\n",
       "    </tr>\n",
       "    <tr>\n",
       "      <th>3</th>\n",
       "      <td>Starbucks</td>\n",
       "      <td>53.347545</td>\n",
       "      <td>-6.263520</td>\n",
       "    </tr>\n",
       "    <tr>\n",
       "      <th>4</th>\n",
       "      <td>Starbucks</td>\n",
       "      <td>53.346098</td>\n",
       "      <td>-6.259072</td>\n",
       "    </tr>\n",
       "  </tbody>\n",
       "</table>\n",
       "</div>"
      ],
      "text/plain": [
       "        name    latitud  longitud\n",
       "0  Starbucks  53.347591 -6.259555\n",
       "1  Starbucks  53.350007 -6.259033\n",
       "2  Starbucks  53.349626 -6.261584\n",
       "3  Starbucks  53.347545 -6.263520\n",
       "4  Starbucks  53.346098 -6.259072"
      ]
     },
     "execution_count": 17,
     "metadata": {},
     "output_type": "execute_result"
    }
   ],
   "source": [
    "dataframestarbucks = pd.DataFrame(new_list)\n",
    "dataframestarbucks.head()"
   ]
  },
  {
   "cell_type": "code",
   "execution_count": 18,
   "metadata": {},
   "outputs": [
    {
     "name": "stdout",
     "output_type": "stream",
     "text": [
      "Starbucks_0 108.22086756471793\n",
      "Starbucks_1 340.69816585905284\n",
      "Starbucks_2 366.951514430256\n",
      "Starbucks_3 352.8512306094474\n",
      "Starbucks_4 110.5404164190214\n"
     ]
    }
   ],
   "source": [
    "#Let's see which starbucks is closer to Clavis Tech\n",
    "clavis_tech_coord = 53.346976,  -6.258292\n",
    "starbucks = {\n",
    "    'Starbucks_0': (53.347591,  -6.259555),\n",
    "    'Starbucks_1': (53.350007,  -6.259033),\n",
    "    'Starbucks_2': (53.349626, -6.261584),\n",
    "    'Starbucks_3': (53.347545,  -6.263520),\n",
    "    'Starbucks_4': (53.346098,  -6.259072)\n",
    "}\n",
    "\n",
    "for places, coord in starbucks.items():\n",
    "    distance = haversine(clavis_tech_coord, coord)\n",
    "    print(places, distance)\n",
    "#We can see the closest Starbucks is c.100m away -> chosen starbucks"
   ]
  },
  {
   "cell_type": "code",
   "execution_count": 19,
   "metadata": {
    "scrolled": true
   },
   "outputs": [
    {
     "data": {
      "text/html": [
       "<div style=\"width:100%;\"><div style=\"position:relative;width:100%;height:0;padding-bottom:60%;\"><span style=\"color:#565656\">Make this Notebook Trusted to load map: File -> Trust Notebook</span><iframe src=\"about:blank\" style=\"position:absolute;width:100%;height:100%;left:0;top:0;border:none !important;\" data-html=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 onload=\"this.contentDocument.open();this.contentDocument.write(atob(this.getAttribute('data-html')));this.contentDocument.close();\" allowfullscreen webkitallowfullscreen mozallowfullscreen></iframe></div></div>"
      ],
      "text/plain": [
       "<folium.folium.Map at 0x11cf49a30>"
      ]
     },
     "execution_count": 19,
     "metadata": {},
     "output_type": "execute_result"
    }
   ],
   "source": [
    "#Adding closest Starbucks to dublin map\n",
    "#Location Clavis\n",
    "starbucks_lat =  53.347591\n",
    "starbucks_long = -6.259555\n",
    "\n",
    "#creating the icon for Starbucks\n",
    "icono = Icon(color = \"darkgreen\",\n",
    "             prefix = \"fa\",\n",
    "             icon = \"coffee\",\n",
    "             icon_color = \"black\",\n",
    "             tooltip = \"Starbucks\"\n",
    ")\n",
    "loc = [starbucks_lat, starbucks_long]\n",
    "#saving the marker in one variable\n",
    "marker_starbucks = Marker(location = loc, icon = icono)\n",
    "#let's add the marker to the map where we already had Clavis Tech location saved\n",
    "marker_starbucks.add_to(map_dublin)\n",
    "map_dublin"
   ]
  },
  {
   "cell_type": "markdown",
   "metadata": {},
   "source": [
    "## Irish Pubs"
   ]
  },
  {
   "cell_type": "markdown",
   "metadata": {},
   "source": [
    "Now, let's take a look at the 'party' requirement. Further details can be found in 'Analysing Dublin Office Location' notebook. "
   ]
  },
  {
   "cell_type": "code",
   "execution_count": 20,
   "metadata": {},
   "outputs": [],
   "source": [
    "enlace = 'https://api.foursquare.com/v2/venues/explore'\n",
    "irish_pubs = \"52e81612bcbc57f1066b7a06\"\n",
    "parametros = { \"client_id\" : tok1,\n",
    "          \"client_secret\" : tok2,\n",
    "          \"v\" : \"20180323\",\n",
    "          \"ll\": f\"{clavis_tech.get('coordinates')[1]},{clavis_tech.get('coordinates')[0]}\",\n",
    "          \"query\": \"irish_pubs\",\n",
    "          \"limit\" : 10\n",
    "}"
   ]
  },
  {
   "cell_type": "code",
   "execution_count": 21,
   "metadata": {},
   "outputs": [],
   "source": [
    "resp = requests.get (url = enlace, params = parametros)\n",
    "data = json.loads(resp.text)"
   ]
  },
  {
   "cell_type": "code",
   "execution_count": 22,
   "metadata": {},
   "outputs": [],
   "source": [
    "decoding_data = data.get('response')\n",
    "decoded = decoding_data.get('groups')[0]\n",
    "irish_pubs = decoded.get('items')"
   ]
  },
  {
   "cell_type": "code",
   "execution_count": 23,
   "metadata": {},
   "outputs": [],
   "source": [
    "mapa_nombre = [\"venue\",\"name\"]\n",
    "latitud = [\"venue\", \"location\",\"lat\"]\n",
    "longitud = [\"venue\",\"location\",\"lng\"]"
   ]
  },
  {
   "cell_type": "code",
   "execution_count": 24,
   "metadata": {
    "scrolled": true
   },
   "outputs": [
    {
     "data": {
      "text/html": [
       "<div>\n",
       "<style scoped>\n",
       "    .dataframe tbody tr th:only-of-type {\n",
       "        vertical-align: middle;\n",
       "    }\n",
       "\n",
       "    .dataframe tbody tr th {\n",
       "        vertical-align: top;\n",
       "    }\n",
       "\n",
       "    .dataframe thead th {\n",
       "        text-align: right;\n",
       "    }\n",
       "</style>\n",
       "<table border=\"1\" class=\"dataframe\">\n",
       "  <thead>\n",
       "    <tr style=\"text-align: right;\">\n",
       "      <th></th>\n",
       "      <th>name</th>\n",
       "      <th>latitud</th>\n",
       "      <th>longitud</th>\n",
       "    </tr>\n",
       "  </thead>\n",
       "  <tbody>\n",
       "    <tr>\n",
       "      <th>0</th>\n",
       "      <td>Irish Whiskey Museum</td>\n",
       "      <td>53.344338</td>\n",
       "      <td>-6.259548</td>\n",
       "    </tr>\n",
       "    <tr>\n",
       "      <th>1</th>\n",
       "      <td>The Quays</td>\n",
       "      <td>53.345554</td>\n",
       "      <td>-6.263121</td>\n",
       "    </tr>\n",
       "    <tr>\n",
       "      <th>2</th>\n",
       "      <td>Irish Rock ‘N’ Roll Museum Experience</td>\n",
       "      <td>53.344976</td>\n",
       "      <td>-6.264444</td>\n",
       "    </tr>\n",
       "    <tr>\n",
       "      <th>3</th>\n",
       "      <td>Irish Film Institute (IFI)</td>\n",
       "      <td>53.344667</td>\n",
       "      <td>-6.265295</td>\n",
       "    </tr>\n",
       "    <tr>\n",
       "      <th>4</th>\n",
       "      <td>Irish Design Shop</td>\n",
       "      <td>53.342667</td>\n",
       "      <td>-6.263078</td>\n",
       "    </tr>\n",
       "  </tbody>\n",
       "</table>\n",
       "</div>"
      ],
      "text/plain": [
       "                                    name    latitud  longitud\n",
       "0                   Irish Whiskey Museum  53.344338 -6.259548\n",
       "1                              The Quays  53.345554 -6.263121\n",
       "2  Irish Rock ‘N’ Roll Museum Experience  53.344976 -6.264444\n",
       "3             Irish Film Institute (IFI)  53.344667 -6.265295\n",
       "4                      Irish Design Shop  53.342667 -6.263078"
      ]
     },
     "execution_count": 24,
     "metadata": {},
     "output_type": "execute_result"
    }
   ],
   "source": [
    "new_list2 = []\n",
    "for diccionario in irish_pubs:\n",
    "    irishpubslist = {}\n",
    "    irishpubslist[\"name\"] = getFromDict(diccionario,mapa_nombre)\n",
    "    irishpubslist[\"latitud\"] = getFromDict(diccionario,latitud)\n",
    "    irishpubslist[\"longitud\"] = getFromDict(diccionario,longitud)\n",
    "    new_list2.append(irishpubslist)\n",
    "    \n",
    "dataframeirish = pd.DataFrame(new_list2)\n",
    "dataframeirish.head()"
   ]
  },
  {
   "cell_type": "code",
   "execution_count": 25,
   "metadata": {},
   "outputs": [
    {
     "name": "stdout",
     "output_type": "stream",
     "text": [
      "Irish Whiskey Museum 305.0374232836449\n",
      "The Quays 357.5307752212451\n",
      "Irish Rock ‘N’ Roll Museum Experience 465.13649321082136\n",
      "Irish Film Institute (IFI) 531.2096372569788\n",
      "Irish Design Shop 575.0654827285944\n"
     ]
    }
   ],
   "source": [
    "#Let's now calculate distantes to irish pubs\n",
    "clavis_tech_coord = 53.346976,  -6.258292\n",
    "irish_pubs = {\n",
    "    'Irish Whiskey Museum': (53.344338,  -6.259548),\n",
    "    'The Quays': (53.345554,  -6.263121),\n",
    "    'Irish Rock ‘N’ Roll Museum Experience': (53.344976, -6.264444),\n",
    "    'Irish Film Institute (IFI)': (53.344667,  -6.265295),\n",
    "    'Irish Design Shop': (53.342667,  -6.263078)\n",
    "}\n",
    "\n",
    "for places, coord in irish_pubs.items():\n",
    "    distance = haversine(clavis_tech_coord, coord)\n",
    "    print(places, distance)\n",
    "#We can see there are many irish pubs nearby: Irish Whiskey Museum and the Quays less than 400m away"
   ]
  },
  {
   "cell_type": "code",
   "execution_count": 26,
   "metadata": {
    "scrolled": true
   },
   "outputs": [
    {
     "data": {
      "text/html": [
       "<div style=\"width:100%;\"><div style=\"position:relative;width:100%;height:0;padding-bottom:60%;\"><span style=\"color:#565656\">Make this Notebook Trusted to load map: File -> Trust Notebook</span><iframe src=\"about:blank\" style=\"position:absolute;width:100%;height:100%;left:0;top:0;border:none !important;\" data-html=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 onload=\"this.contentDocument.open();this.contentDocument.write(atob(this.getAttribute('data-html')));this.contentDocument.close();\" allowfullscreen webkitallowfullscreen mozallowfullscreen></iframe></div></div>"
      ],
      "text/plain": [
       "<folium.folium.Map at 0x11cf49a30>"
      ]
     },
     "execution_count": 26,
     "metadata": {},
     "output_type": "execute_result"
    }
   ],
   "source": [
    "#Adding closest Irish pub to dublin map\n",
    "#Location Irish Pub\n",
    "pub_lat =  53.344338\n",
    "pub_long = -6.259548\n",
    "\n",
    "#creating the icon for Irish Pub\n",
    "icono = Icon(color = \"orange\",\n",
    "             prefix = \"fa\",\n",
    "             icon = \"beer\",\n",
    "             icon_color = \"black\",\n",
    "             tooltip = \"Irish Pub\"\n",
    ")\n",
    "loc = [pub_lat, pub_long]\n",
    "#saving the marker in one variable\n",
    "marker_pub = Marker(location = loc, icon = icono)\n",
    "#let's add the marker to the map where we already had Clavis Tech location saved\n",
    "marker_pub.add_to(map_dublin)\n",
    "map_dublin"
   ]
  },
  {
   "cell_type": "markdown",
   "metadata": {},
   "source": [
    "## Veterinarian"
   ]
  },
  {
   "cell_type": "code",
   "execution_count": 27,
   "metadata": {},
   "outputs": [],
   "source": [
    "#Looking for dog vet service\n",
    "enlace = 'https://api.foursquare.com/v2/venues/explore'\n",
    "vet = \"4d954af4a243a5684765b473\"\n",
    "parametros = { \"client_id\" : tok1,\n",
    "          \"client_secret\" : tok2,\n",
    "          \"v\" : \"20180323\",\n",
    "          \"ll\": f\"{clavis_tech.get('coordinates')[1]},{clavis_tech.get('coordinates')[0]}\",\n",
    "          \"query\": \"vet\",\n",
    "          \"limit\" : 10\n",
    "}"
   ]
  },
  {
   "cell_type": "code",
   "execution_count": 29,
   "metadata": {},
   "outputs": [],
   "source": [
    "resp = requests.get (url = enlace, params = parametros)\n",
    "data = json.loads(resp.text)\n",
    "decoding_data = data.get('response')\n",
    "decoded = decoding_data.get('groups')[0]\n",
    "vet = decoded.get('items')"
   ]
  },
  {
   "cell_type": "code",
   "execution_count": 30,
   "metadata": {},
   "outputs": [
    {
     "data": {
      "text/html": [
       "<div>\n",
       "<style scoped>\n",
       "    .dataframe tbody tr th:only-of-type {\n",
       "        vertical-align: middle;\n",
       "    }\n",
       "\n",
       "    .dataframe tbody tr th {\n",
       "        vertical-align: top;\n",
       "    }\n",
       "\n",
       "    .dataframe thead th {\n",
       "        text-align: right;\n",
       "    }\n",
       "</style>\n",
       "<table border=\"1\" class=\"dataframe\">\n",
       "  <thead>\n",
       "    <tr style=\"text-align: right;\">\n",
       "      <th></th>\n",
       "      <th>name</th>\n",
       "      <th>latitud</th>\n",
       "      <th>longitud</th>\n",
       "    </tr>\n",
       "  </thead>\n",
       "  <tbody>\n",
       "    <tr>\n",
       "      <th>0</th>\n",
       "      <td>The Porterhouse</td>\n",
       "      <td>53.345159</td>\n",
       "      <td>-6.267517</td>\n",
       "    </tr>\n",
       "    <tr>\n",
       "      <th>1</th>\n",
       "      <td>Duleek Vet Hospital</td>\n",
       "      <td>53.655193</td>\n",
       "      <td>-6.416615</td>\n",
       "    </tr>\n",
       "    <tr>\n",
       "      <th>2</th>\n",
       "      <td>Vet Farm Supplies</td>\n",
       "      <td>53.525459</td>\n",
       "      <td>-7.344558</td>\n",
       "    </tr>\n",
       "    <tr>\n",
       "      <th>3</th>\n",
       "      <td>Shannon Vet Surgery</td>\n",
       "      <td>53.423706</td>\n",
       "      <td>-7.983576</td>\n",
       "    </tr>\n",
       "  </tbody>\n",
       "</table>\n",
       "</div>"
      ],
      "text/plain": [
       "                  name    latitud  longitud\n",
       "0      The Porterhouse  53.345159 -6.267517\n",
       "1  Duleek Vet Hospital  53.655193 -6.416615\n",
       "2    Vet Farm Supplies  53.525459 -7.344558\n",
       "3  Shannon Vet Surgery  53.423706 -7.983576"
      ]
     },
     "execution_count": 30,
     "metadata": {},
     "output_type": "execute_result"
    }
   ],
   "source": [
    "new_list3 = []\n",
    "for diccionario in vet:\n",
    "    vetlist = {}\n",
    "    vetlist[\"name\"] = getFromDict(diccionario,mapa_nombre)\n",
    "    vetlist[\"latitud\"] = getFromDict(diccionario,latitud)\n",
    "    vetlist[\"longitud\"] = getFromDict(diccionario,longitud)\n",
    "    new_list3.append(vetlist)\n",
    "    \n",
    "dataframevet = pd.DataFrame(new_list3)\n",
    "dataframevet.head()"
   ]
  },
  {
   "cell_type": "code",
   "execution_count": 31,
   "metadata": {},
   "outputs": [
    {
     "name": "stdout",
     "output_type": "stream",
     "text": [
      "The Porterhouse 645.0180090697779\n",
      "Duleek Vet Hospital 35846.2829981018\n",
      "Vet Farm Supplies 74662.12139205004\n",
      "Shannon Vet Surgery 114768.11073931814\n"
     ]
    }
   ],
   "source": [
    "#Let's now calculate distantes to dog vet services\n",
    "clavis_tech_coord = 53.346976,  -6.258292\n",
    "vet_serv = {\n",
    "    'The Porterhouse': (53.345159,  -6.267517),\n",
    "    'Duleek Vet Hospital': (53.655193,  -6.416615),\n",
    "    'Vet Farm Supplies': (53.525459, -7.344558),\n",
    "    'Shannon Vet Surgery': (53.423706,  -7.983576)\n",
    "}\n",
    "\n",
    "for places, coord in vet_serv.items():\n",
    "    distance = haversine(clavis_tech_coord, coord)\n",
    "    print(places, distance)\n",
    "#We can see there is a veterinarian where we could find a hairdresser for the dog (650m away)"
   ]
  },
  {
   "cell_type": "code",
   "execution_count": 32,
   "metadata": {},
   "outputs": [
    {
     "data": {
      "text/html": [
       "<div style=\"width:100%;\"><div style=\"position:relative;width:100%;height:0;padding-bottom:60%;\"><span style=\"color:#565656\">Make this Notebook Trusted to load map: File -> Trust Notebook</span><iframe src=\"about:blank\" style=\"position:absolute;width:100%;height:100%;left:0;top:0;border:none !important;\" data-html=PCFET0NUWVBFIGh0bWw+CjxoZWFkPiAgICAKICAgIDxtZXRhIGh0dHAtZXF1aXY9ImNvbnRlbnQtdHlwZSIgY29udGVudD0idGV4dC9odG1sOyBjaGFyc2V0PVVURi04IiAvPgogICAgCiAgICAgICAgPHNjcmlwdD4KICAgICAgICAgICAgTF9OT19UT1VDSCA9IGZhbHNlOwogICAgICAgICAgICBMX0RJU0FCTEVfM0QgPSBmYWxzZTsKICAgICAgICA8L3NjcmlwdD4KICAgIAogICAgPHNjcmlwdCBzcmM9Imh0dHBzOi8vY2RuLmpzZGVsaXZyLm5ldC9ucG0vbGVhZmxldEAxLjYuMC9kaXN0L2xlYWZsZXQuanMiPjwvc2NyaXB0PgogICAgPHNjcmlwdCBzcmM9Imh0dHBzOi8vY29kZS5qcXVlcnkuY29tL2pxdWVyeS0xLjEyLjQubWluLmpzIj48L3NjcmlwdD4KICAgIDxzY3JpcHQgc3JjPSJodHRwczovL21heGNkbi5ib290c3RyYXBjZG4uY29tL2Jvb3RzdHJhcC8zLjIuMC9qcy9ib290c3RyYXAubWluLmpzIj48L3NjcmlwdD4KICAgIDxzY3JpcHQgc3JjPSJodHRwczovL2NkbmpzLmNsb3VkZmxhcmUuY29tL2FqYXgvbGlicy9MZWFmbGV0LmF3ZXNvbWUtbWFya2Vycy8yLjAuMi9sZWFmbGV0LmF3ZXNvbWUtbWFya2Vycy5qcyI+PC9zY3JpcHQ+CiAgICA8bGluayByZWw9InN0eWxlc2hlZXQiIGhyZWY9Imh0dHBzOi8vY2RuLmpzZGVsaXZyLm5ldC9ucG0vbGVhZmxldEAxLjYuMC9kaXN0L2xlYWZsZXQuY3NzIi8+CiAgICA8bGluayByZWw9InN0eWxlc2hlZXQiIGhyZWY9Imh0dHBzOi8vbWF4Y2RuLmJvb3RzdHJhcGNkbi5jb20vYm9vdHN0cmFwLzMuMi4wL2Nzcy9ib290c3RyYXAubWluLmNzcyIvPgogICAgPGxpbmsgcmVsPSJzdHlsZXNoZWV0IiBocmVmPSJodHRwczovL21heGNkbi5ib290c3RyYXBjZG4uY29tL2Jvb3RzdHJhcC8zLjIuMC9jc3MvYm9vdHN0cmFwLXRoZW1lLm1pbi5jc3MiLz4KICAgIDxsaW5rIHJlbD0ic3R5bGVzaGVldCIgaHJlZj0iaHR0cHM6Ly9tYXhjZG4uYm9vdHN0cmFwY2RuLmNvbS9mb250LWF3ZXNvbWUvNC42LjMvY3NzL2ZvbnQtYXdlc29tZS5taW4uY3NzIi8+CiAgICA8bGluayByZWw9InN0eWxlc2hlZXQiIGhyZWY9Imh0dHBzOi8vY2RuanMuY2xvdWRmbGFyZS5jb20vYWpheC9saWJzL0xlYWZsZXQuYXdlc29tZS1tYXJrZXJzLzIuMC4yL2xlYWZsZXQuYXdlc29tZS1tYXJrZXJzLmNzcyIvPgogICAgPGxpbmsgcmVsPSJzdHlsZXNoZWV0IiBocmVmPSJodHRwczovL3Jhd2Nkbi5naXRoYWNrLmNvbS9weXRob24tdmlzdWFsaXphdGlvbi9mb2xpdW0vbWFzdGVyL2ZvbGl1bS90ZW1wbGF0ZXMvbGVhZmxldC5hd2Vzb21lLnJvdGF0ZS5jc3MiLz4KICAgIDxzdHlsZT5odG1sLCBib2R5IHt3aWR0aDogMTAwJTtoZWlnaHQ6IDEwMCU7bWFyZ2luOiAwO3BhZGRpbmc6IDA7fTwvc3R5bGU+CiAgICA8c3R5bGU+I21hcCB7cG9zaXRpb246YWJzb2x1dGU7dG9wOjA7Ym90dG9tOjA7cmlnaHQ6MDtsZWZ0OjA7fTwvc3R5bGU+CiAgICAKICAgICAgICAgICAgPG1ldGEgbmFtZT0idmlld3BvcnQiIGNvbnRlbnQ9IndpZHRoPWRldmljZS13aWR0aCwKICAgICAgICAgICAgICAgIGluaXRpYWwtc2NhbGU9MS4wLCBtYXhpbXVtLXNjYWxlPTEuMCwgdXNlci1zY2FsYWJsZT1ubyIgLz4KICAgICAgICAgICAgPHN0eWxlPgogICAgICAgICAgICAgICAgI21hcF9kYzBjMWMzN2Q3OTQ0OWE4ODIyMjBjZTU2MDc2ZDQzYyB7CiAgICAgICAgICAgICAgICAgICAgcG9zaXRpb246IHJlbGF0aXZlOwogICAgICAgICAgICAgICAgICAgIHdpZHRoOiAxMDAuMCU7CiAgICAgICAgICAgICAgICAgICAgaGVpZ2h0OiAxMDAuMCU7CiAgICAgICAgICAgICAgICAgICAgbGVmdDogMC4wJTsKICAgICAgICAgICAgICAgICAgICB0b3A6IDAuMCU7CiAgICAgICAgICAgICAgICB9CiAgICAgICAgICAgIDwvc3R5bGU+CiAgICAgICAgCjwvaGVhZD4KPGJvZHk+ICAgIAogICAgCiAgICAgICAgICAgIDxkaXYgY2xhc3M9ImZvbGl1bS1tYXAiIGlkPSJtYXBfZGMwYzFjMzdkNzk0NDlhODgyMjIwY2U1NjA3NmQ0M2MiID48L2Rpdj4KICAgICAgICAKPC9ib2R5Pgo8c2NyaXB0PiAgICAKICAgIAogICAgICAgICAgICB2YXIgbWFwX2RjMGMxYzM3ZDc5NDQ5YTg4MjIyMGNlNTYwNzZkNDNjID0gTC5tYXAoCiAgICAgICAgICAgICAgICAibWFwX2RjMGMxYzM3ZDc5NDQ5YTg4MjIyMGNlNTYwNzZkNDNjIiwKICAgICAgICAgICAgICAgIHsKICAgICAgICAgICAgICAgICAgICBjZW50ZXI6IFs1My4zNDY5NzYsIC02LjI1ODI5Ml0sCiAgICAgICAgICAgICAgICAgICAgY3JzOiBMLkNSUy5FUFNHMzg1NywKICAgICAgICAgICAgICAgICAgICB6b29tOiAxNSwKICAgICAgICAgICAgICAgICAgICB6b29tQ29udHJvbDogdHJ1ZSwKICAgICAgICAgICAgICAgICAgICBwcmVmZXJDYW52YXM6IGZhbHNlLAogICAgICAgICAgICAgICAgfQogICAgICAgICAgICApOwoKICAgICAgICAgICAgCgogICAgICAgIAogICAgCiAgICAgICAgICAgIHZhciB0aWxlX2xheWVyX2VkYjg1ZjU1NTZhNDRiNThhNjNhMTk0MzM4NWU1YjA1ID0gTC50aWxlTGF5ZXIoCiAgICAgICAgICAgICAgICAiaHR0cHM6Ly97c30udGlsZS5vcGVuc3RyZWV0bWFwLm9yZy97en0ve3h9L3t5fS5wbmciLAogICAgICAgICAgICAgICAgeyJhdHRyaWJ1dGlvbiI6ICJEYXRhIGJ5IFx1MDAyNmNvcHk7IFx1MDAzY2EgaHJlZj1cImh0dHA6Ly9vcGVuc3RyZWV0bWFwLm9yZ1wiXHUwMDNlT3BlblN0cmVldE1hcFx1MDAzYy9hXHUwMDNlLCB1bmRlciBcdTAwM2NhIGhyZWY9XCJodHRwOi8vd3d3Lm9wZW5zdHJlZXRtYXAub3JnL2NvcHlyaWdodFwiXHUwMDNlT0RiTFx1MDAzYy9hXHUwMDNlLiIsICJkZXRlY3RSZXRpbmEiOiBmYWxzZSwgIm1heE5hdGl2ZVpvb20iOiAxOCwgIm1heFpvb20iOiAxOCwgIm1pblpvb20iOiAwLCAibm9XcmFwIjogZmFsc2UsICJvcGFjaXR5IjogMSwgInN1YmRvbWFpbnMiOiAiYWJjIiwgInRtcyI6IGZhbHNlfQogICAgICAgICAgICApLmFkZFRvKG1hcF9kYzBjMWMzN2Q3OTQ0OWE4ODIyMjBjZTU2MDc2ZDQzYyk7CiAgICAgICAgCiAgICAKICAgICAgICAgICAgdmFyIG1hcmtlcl9iZWIzYWE1YmMwZTg0N2NjODA2YzYxNmQwM2YwYjhlMyA9IEwubWFya2VyKAogICAgICAgICAgICAgICAgWzUzLjM0Njk3NiwgLTYuMjU4MjkyXSwKICAgICAgICAgICAgICAgIHt9CiAgICAgICAgICAgICkuYWRkVG8obWFwX2RjMGMxYzM3ZDc5NDQ5YTg4MjIyMGNlNTYwNzZkNDNjKTsKICAgICAgICAKICAgIAogICAgICAgICAgICB2YXIgaWNvbl83MDUzY2ZjMjlkYzc0MDQ3ODYzOTk5MDYwYWZhMWFlMSA9IEwuQXdlc29tZU1hcmtlcnMuaWNvbigKICAgICAgICAgICAgICAgIHsiZXh0cmFDbGFzc2VzIjogImZhLXJvdGF0ZS0wIiwgImljb24iOiAiYnJpZWZjYXNlIiwgImljb25Db2xvciI6ICJibGFjayIsICJtYXJrZXJDb2xvciI6ICJyZWQiLCAicHJlZml4IjogImZhIiwgInRvb2x0aXAiOiAiQ2xhdmlzIFRlY2gifQogICAgICAgICAgICApOwogICAgICAgICAgICBtYXJrZXJfYmViM2FhNWJjMGU4NDdjYzgwNmM2MTZkMDNmMGI4ZTMuc2V0SWNvbihpY29uXzcwNTNjZmMyOWRjNzQwNDc4NjM5OTkwNjBhZmExYWUxKTsKICAgICAgICAKICAgIAogICAgICAgICAgICB2YXIgbWFya2VyX2QwMWQ4YTI1MTUzNDRhYjg5NzM5MGEwZDAzODBkOTI1ID0gTC5tYXJrZXIoCiAgICAgICAgICAgICAgICBbNTMuMzQ3NTkxLCAtNi4yNTk1NTVdLAogICAgICAgICAgICAgICAge30KICAgICAgICAgICAgKS5hZGRUbyhtYXBfZGMwYzFjMzdkNzk0NDlhODgyMjIwY2U1NjA3NmQ0M2MpOwogICAgICAgIAogICAgCiAgICAgICAgICAgIHZhciBpY29uXzU3ODBmOTM1NDNhYTRkNmNiOGUwYWI1MDZiNDIyOTIzID0gTC5Bd2Vzb21lTWFya2Vycy5pY29uKAogICAgICAgICAgICAgICAgeyJleHRyYUNsYXNzZXMiOiAiZmEtcm90YXRlLTAiLCAiaWNvbiI6ICJjb2ZmZWUiLCAiaWNvbkNvbG9yIjogImJsYWNrIiwgIm1hcmtlckNvbG9yIjogImRhcmtncmVlbiIsICJwcmVmaXgiOiAiZmEiLCAidG9vbHRpcCI6ICJTdGFyYnVja3MifQogICAgICAgICAgICApOwogICAgICAgICAgICBtYXJrZXJfZDAxZDhhMjUxNTM0NGFiODk3MzkwYTBkMDM4MGQ5MjUuc2V0SWNvbihpY29uXzU3ODBmOTM1NDNhYTRkNmNiOGUwYWI1MDZiNDIyOTIzKTsKICAgICAgICAKICAgIAogICAgICAgICAgICB2YXIgbWFya2VyXzUzYzUwZTQ1YmZmNTQwMDQ5Y2RjOTdkNmQxOTMxYjU2ID0gTC5tYXJrZXIoCiAgICAgICAgICAgICAgICBbNTMuMzQ0MzM4LCAtNi4yNTk1NDhdLAogICAgICAgICAgICAgICAge30KICAgICAgICAgICAgKS5hZGRUbyhtYXBfZGMwYzFjMzdkNzk0NDlhODgyMjIwY2U1NjA3NmQ0M2MpOwogICAgICAgIAogICAgCiAgICAgICAgICAgIHZhciBpY29uXzU0YzlmNmZlYTk4MjQ0MzI5MmZlN2UzOWRjNGUwZGVlID0gTC5Bd2Vzb21lTWFya2Vycy5pY29uKAogICAgICAgICAgICAgICAgeyJleHRyYUNsYXNzZXMiOiAiZmEtcm90YXRlLTAiLCAiaWNvbiI6ICJiZWVyIiwgImljb25Db2xvciI6ICJibGFjayIsICJtYXJrZXJDb2xvciI6ICJvcmFuZ2UiLCAicHJlZml4IjogImZhIiwgInRvb2x0aXAiOiAiSXJpc2ggUHViIn0KICAgICAgICAgICAgKTsKICAgICAgICAgICAgbWFya2VyXzUzYzUwZTQ1YmZmNTQwMDQ5Y2RjOTdkNmQxOTMxYjU2LnNldEljb24oaWNvbl81NGM5ZjZmZWE5ODI0NDMyOTJmZTdlMzlkYzRlMGRlZSk7CiAgICAgICAgCiAgICAKICAgICAgICAgICAgdmFyIG1hcmtlcl9kNmU1OTdhYTZlM2U0OTBkODk4MzZjY2Q0NTBjMDU1ZSA9IEwubWFya2VyKAogICAgICAgICAgICAgICAgWzUzLjM0NTE1OSwgLTYuMjY3NTE3XSwKICAgICAgICAgICAgICAgIHt9CiAgICAgICAgICAgICkuYWRkVG8obWFwX2RjMGMxYzM3ZDc5NDQ5YTg4MjIyMGNlNTYwNzZkNDNjKTsKICAgICAgICAKICAgIAogICAgICAgICAgICB2YXIgaWNvbl8yODdkNDM0NTYxNjM0NTYyYWQyYmE4OTVkNTY5ZjcyOSA9IEwuQXdlc29tZU1hcmtlcnMuaWNvbigKICAgICAgICAgICAgICAgIHsiZXh0cmFDbGFzc2VzIjogImZhLXJvdGF0ZS0wIiwgImljb24iOiAicGF3IiwgImljb25Db2xvciI6ICJibGFjayIsICJtYXJrZXJDb2xvciI6ICJibHVlIiwgInByZWZpeCI6ICJmYSIsICJ0b29sdGlwIjogIlZldGVyaW5hcmlhbiJ9CiAgICAgICAgICAgICk7CiAgICAgICAgICAgIG1hcmtlcl9kNmU1OTdhYTZlM2U0OTBkODk4MzZjY2Q0NTBjMDU1ZS5zZXRJY29uKGljb25fMjg3ZDQzNDU2MTYzNDU2MmFkMmJhODk1ZDU2OWY3MjkpOwogICAgICAgIAo8L3NjcmlwdD4= onload=\"this.contentDocument.open();this.contentDocument.write(atob(this.getAttribute('data-html')));this.contentDocument.close();\" allowfullscreen webkitallowfullscreen mozallowfullscreen></iframe></div></div>"
      ],
      "text/plain": [
       "<folium.folium.Map at 0x11cf49a30>"
      ]
     },
     "execution_count": 32,
     "metadata": {},
     "output_type": "execute_result"
    }
   ],
   "source": [
    "#Adding closest vet to dublin map\n",
    "#Location Vet\n",
    "vet_lat =  53.345159\n",
    "vet_long = -6.267517\n",
    "\n",
    "#creating the icon for Veterinarian\n",
    "icono = Icon(color = \"blue\",\n",
    "             prefix = \"fa\",\n",
    "             icon = \"paw\",\n",
    "             icon_color = \"black\",\n",
    "             tooltip = \"Veterinarian\"\n",
    ")\n",
    "loc = [vet_lat, vet_long]\n",
    "#saving the marker in one variable\n",
    "marker_vet = Marker(location = loc, icon = icono)\n",
    "#let's add the marker to the map where we the other locations and markers saved\n",
    "marker_vet.add_to(map_dublin)\n",
    "map_dublin"
   ]
  },
  {
   "cell_type": "markdown",
   "metadata": {},
   "source": [
    "By taking a look at the map, I can see there is a good transportation network too, which will make the airport access easier and faster since the account managers need to travel a lot. In fact, Westmoreland tram station is only 80m away and there are other close tram stops nearby, such as the one in Tara St and in Trinity Luas."
   ]
  },
  {
   "cell_type": "markdown",
   "metadata": {},
   "source": [
    "## Conclusion"
   ]
  },
  {
   "cell_type": "markdown",
   "metadata": {},
   "source": [
    "Clavis Tech office buildings seem to be the perfect spot for the new gaming company since it meets all the above mentioned requirements.The coordinates are: [-6.258292, 53.346976]. "
   ]
  }
 ],
 "metadata": {
  "kernelspec": {
   "display_name": "Python 3",
   "language": "python",
   "name": "python3"
  },
  "language_info": {
   "codemirror_mode": {
    "name": "ipython",
    "version": 3
   },
   "file_extension": ".py",
   "mimetype": "text/x-python",
   "name": "python",
   "nbconvert_exporter": "python",
   "pygments_lexer": "ipython3",
   "version": "3.8.6"
  }
 },
 "nbformat": 4,
 "nbformat_minor": 4
}
